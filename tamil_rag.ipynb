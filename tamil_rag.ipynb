{
 "cells": [
  {
   "cell_type": "code",
   "execution_count": 1,
   "id": "0dbd7559-c8e6-45df-bb6a-3dff0f196f3c",
   "metadata": {},
   "outputs": [],
   "source": [
    "import faiss"
   ]
  },
  {
   "cell_type": "code",
   "execution_count": 2,
   "id": "dd6489f2-8bbe-4a18-88b8-c8118e13dd10",
   "metadata": {},
   "outputs": [],
   "source": [
    "import numpy as np"
   ]
  },
  {
   "cell_type": "code",
   "execution_count": 3,
   "id": "8195d336-9d99-4dee-90fb-ae97b90623f5",
   "metadata": {},
   "outputs": [],
   "source": [
    "import re"
   ]
  },
  {
   "cell_type": "code",
   "execution_count": 4,
   "id": "409f39c8-2cab-4c46-9d70-94c619ef6215",
   "metadata": {},
   "outputs": [],
   "source": [
    "import os"
   ]
  },
  {
   "cell_type": "code",
   "execution_count": 5,
   "id": "4b9476e1-3e0f-4714-abbb-1382d578eddc",
   "metadata": {},
   "outputs": [],
   "source": [
    "from langchain.document_loaders import PDFPlumberLoader"
   ]
  },
  {
   "cell_type": "code",
   "execution_count": 6,
   "id": "620fb5ce-54ea-47d9-b6a1-2c25d97d0f46",
   "metadata": {},
   "outputs": [],
   "source": [
    "from langchain_ollama.llms import OllamaLLM "
   ]
  },
  {
   "cell_type": "code",
   "execution_count": 7,
   "id": "b249c6b2-54d2-4a5f-9c82-94676d88efad",
   "metadata": {},
   "outputs": [],
   "source": [
    "from langchain.text_splitter import RecursiveCharacterTextSplitter"
   ]
  },
  {
   "cell_type": "code",
   "execution_count": 8,
   "id": "9a1b030b-f124-454a-ab1f-83235b074e2d",
   "metadata": {},
   "outputs": [],
   "source": [
    "from langchain_ollama import OllamaEmbeddings\n"
   ]
  },
  {
   "cell_type": "code",
   "execution_count": 9,
   "id": "4f97e4f9-0314-4d7c-a8f8-293b7d10dfed",
   "metadata": {},
   "outputs": [],
   "source": [
    "MODEL = OllamaLLM(model=\"conceptsintamil/tamil-llama-7b-instruct-v0.2\")"
   ]
  },
  {
   "cell_type": "code",
   "execution_count": 31,
   "id": "0975ba65-ceb0-47c6-93e6-eb35b62b6aff",
   "metadata": {},
   "outputs": [
    {
     "name": "stderr",
     "output_type": "stream",
     "text": [
      "C:\\Users\\aravi\\AppData\\Local\\Programs\\Python\\Python311\\Lib\\site-packages\\sentence_transformers\\cross_encoder\\CrossEncoder.py:13: TqdmExperimentalWarning: Using `tqdm.autonotebook.tqdm` in notebook mode. Use `tqdm.tqdm` instead to force console mode (e.g. in jupyter console)\n",
      "  from tqdm.autonotebook import tqdm, trange\n"
     ]
    },
    {
     "data": {
      "application/vnd.jupyter.widget-view+json": {
       "model_id": "f8f4d0261c474c1aa7e045698dd2395e",
       "version_major": 2,
       "version_minor": 0
      },
      "text/plain": [
       "modules.json:   0%|          | 0.00/229 [00:00<?, ?B/s]"
      ]
     },
     "metadata": {},
     "output_type": "display_data"
    },
    {
     "name": "stderr",
     "output_type": "stream",
     "text": [
      "C:\\Users\\aravi\\AppData\\Local\\Programs\\Python\\Python311\\Lib\\site-packages\\huggingface_hub\\file_download.py:139: UserWarning: `huggingface_hub` cache-system uses symlinks by default to efficiently store duplicated files but your machine does not support them in C:\\Users\\aravi\\.cache\\huggingface\\hub\\models--sentence-transformers--paraphrase-multilingual-mpnet-base-v2. Caching files will still work but in a degraded version that might require more space on your disk. This warning can be disabled by setting the `HF_HUB_DISABLE_SYMLINKS_WARNING` environment variable. For more details, see https://huggingface.co/docs/huggingface_hub/how-to-cache#limitations.\n",
      "To support symlinks on Windows, you either need to activate Developer Mode or to run Python as an administrator. In order to activate developer mode, see this article: https://docs.microsoft.com/en-us/windows/apps/get-started/enable-your-device-for-development\n",
      "  warnings.warn(message)\n"
     ]
    },
    {
     "data": {
      "application/vnd.jupyter.widget-view+json": {
       "model_id": "194f2cb7ab1949eeafa9098f2fab766c",
       "version_major": 2,
       "version_minor": 0
      },
      "text/plain": [
       "config_sentence_transformers.json:   0%|          | 0.00/122 [00:00<?, ?B/s]"
      ]
     },
     "metadata": {},
     "output_type": "display_data"
    },
    {
     "data": {
      "application/vnd.jupyter.widget-view+json": {
       "model_id": "c57438bba371422e85618a3b2303cf33",
       "version_major": 2,
       "version_minor": 0
      },
      "text/plain": [
       "README.md:   0%|          | 0.00/4.13k [00:00<?, ?B/s]"
      ]
     },
     "metadata": {},
     "output_type": "display_data"
    },
    {
     "data": {
      "application/vnd.jupyter.widget-view+json": {
       "model_id": "d0716ebf44ac4c1f81779455ac229cb5",
       "version_major": 2,
       "version_minor": 0
      },
      "text/plain": [
       "sentence_bert_config.json:   0%|          | 0.00/53.0 [00:00<?, ?B/s]"
      ]
     },
     "metadata": {},
     "output_type": "display_data"
    },
    {
     "data": {
      "application/vnd.jupyter.widget-view+json": {
       "model_id": "1a04482e73af457db5942642b612892e",
       "version_major": 2,
       "version_minor": 0
      },
      "text/plain": [
       "config.json:   0%|          | 0.00/723 [00:00<?, ?B/s]"
      ]
     },
     "metadata": {},
     "output_type": "display_data"
    },
    {
     "data": {
      "application/vnd.jupyter.widget-view+json": {
       "model_id": "7e463c4ca05440c082ebe9d7f7725951",
       "version_major": 2,
       "version_minor": 0
      },
      "text/plain": [
       "model.safetensors:   0%|          | 0.00/1.11G [00:00<?, ?B/s]"
      ]
     },
     "metadata": {},
     "output_type": "display_data"
    },
    {
     "data": {
      "application/vnd.jupyter.widget-view+json": {
       "model_id": "b552aa4c8ee049cd8cf4b8d032e7f803",
       "version_major": 2,
       "version_minor": 0
      },
      "text/plain": [
       "tokenizer_config.json:   0%|          | 0.00/402 [00:00<?, ?B/s]"
      ]
     },
     "metadata": {},
     "output_type": "display_data"
    },
    {
     "data": {
      "application/vnd.jupyter.widget-view+json": {
       "model_id": "380c8298c47a41d795ff853167bf9396",
       "version_major": 2,
       "version_minor": 0
      },
      "text/plain": [
       "sentencepiece.bpe.model:   0%|          | 0.00/5.07M [00:00<?, ?B/s]"
      ]
     },
     "metadata": {},
     "output_type": "display_data"
    },
    {
     "data": {
      "application/vnd.jupyter.widget-view+json": {
       "model_id": "b207085b82fe4e56899560f3b76e9520",
       "version_major": 2,
       "version_minor": 0
      },
      "text/plain": [
       "tokenizer.json:   0%|          | 0.00/9.08M [00:00<?, ?B/s]"
      ]
     },
     "metadata": {},
     "output_type": "display_data"
    },
    {
     "data": {
      "application/vnd.jupyter.widget-view+json": {
       "model_id": "a04368e2671c4a72aa3a51f51ad253bb",
       "version_major": 2,
       "version_minor": 0
      },
      "text/plain": [
       "special_tokens_map.json:   0%|          | 0.00/239 [00:00<?, ?B/s]"
      ]
     },
     "metadata": {},
     "output_type": "display_data"
    },
    {
     "data": {
      "application/vnd.jupyter.widget-view+json": {
       "model_id": "fa89d294ea1b43fc93d0e6abc668d0a5",
       "version_major": 2,
       "version_minor": 0
      },
      "text/plain": [
       "1_Pooling%2Fconfig.json:   0%|          | 0.00/190 [00:00<?, ?B/s]"
      ]
     },
     "metadata": {},
     "output_type": "display_data"
    }
   ],
   "source": [
    "from sentence_transformers import SentenceTransformer\n",
    "EMBEDDING_MODEL =  SentenceTransformer(\"sentence-transformers/paraphrase-multilingual-mpnet-base-v2\")"
   ]
  },
  {
   "cell_type": "code",
   "execution_count": 11,
   "id": "9ad04005-20e0-40d8-969b-3eafe1c40f9d",
   "metadata": {},
   "outputs": [],
   "source": [
    "PDF_STORAGE_PATH = \"C:\\\\Users\\\\aravi\\\\Downloads\\\\pdftake\""
   ]
  },
  {
   "cell_type": "code",
   "execution_count": 12,
   "id": "0f6494f2-ea92-4a8a-b097-bd3e10464421",
   "metadata": {},
   "outputs": [],
   "source": [
    "dimension = 768\n",
    "DOCUMENT_VECTOR_DB = faiss.IndexFlatL2(dimension)"
   ]
  },
  {
   "cell_type": "code",
   "execution_count": 13,
   "id": "798cd4d8-fd20-4fdf-b3c8-dfacb105602d",
   "metadata": {},
   "outputs": [],
   "source": [
    "doc_store = {}"
   ]
  },
  {
   "cell_type": "code",
   "execution_count": 14,
   "id": "5b8507ed-ad65-43a4-b6de-9e20949a4804",
   "metadata": {},
   "outputs": [],
   "source": [
    "def save_uploaded_file(uploaded_file, filename):\n",
    "\n",
    "    file_path = os.path.join(PDF_STORAGE_PATH, filename)\n",
    "    with open(file_path, \"wb\") as file:\n",
    "        file.write(uploaded_file.read())\n",
    "    return file_path"
   ]
  },
  {
   "cell_type": "code",
   "execution_count": 15,
   "id": "b5503d1b-48cd-437f-bc88-d32b09483a49",
   "metadata": {},
   "outputs": [],
   "source": [
    "def load_pdf_documents(file_path):\n",
    "\n",
    "    document_loader = PDFPlumberLoader(file_path)\n",
    "    return document_loader.load()"
   ]
  },
  {
   "cell_type": "code",
   "execution_count": 16,
   "id": "9dd591f9-c69c-4fb8-9391-6433a00187cc",
   "metadata": {},
   "outputs": [],
   "source": [
    "def chunk_documents(raw_documents):\n",
    "\n",
    "    text_processor = RecursiveCharacterTextSplitter(\n",
    "        chunk_size=500,\n",
    "        chunk_overlap=150,\n",
    "        add_start_index=True\n",
    "    )\n",
    "    return text_processor.split_documents(raw_documents)"
   ]
  },
  {
   "cell_type": "code",
   "execution_count": 37,
   "id": "d9701d8f-30a9-4537-8304-ba21b57002af",
   "metadata": {},
   "outputs": [],
   "source": [
    "def index_documents(document_chunks):\n",
    "\n",
    "    print(\"hi\")\n",
    "    embeddings = np.array(\n",
    "        EMBEDDING_MODEL.encode([doc.page_content for doc in document_chunks]),\n",
    "        dtype=np.float32\n",
    "    )\n",
    "    print(\"hi\")\n",
    "    start_id = len(doc_store)  # Start index for new documents\n",
    "    for i, doc in enumerate(document_chunks):\n",
    "        doc_store[start_id + i] = doc.page_content  # Store text\n",
    "    \n",
    "    DOCUMENT_VECTOR_DB.add(embeddings) "
   ]
  },
  {
   "cell_type": "code",
   "execution_count": 70,
   "id": "7a621b9e-e283-49b6-bc36-cae306e7e5ba",
   "metadata": {},
   "outputs": [],
   "source": [
    "def find_related_documents(query, k=2):\n",
    "\n",
    "    query_embedding = np.array(\n",
    "        EMBEDDING_MODEL.encode([query]),\n",
    "        dtype=np.float32\n",
    "    )\n",
    "\n",
    "\n",
    "    _, indices = DOCUMENT_VECTOR_DB.search(query_embedding, k)\n",
    "\n",
    "    results = [doc_store[idx] for idx in indices[0] if idx in doc_store]\n",
    "    return results  "
   ]
  },
  {
   "cell_type": "code",
   "execution_count": 71,
   "id": "baaf927d-cf55-4332-a941-cdaaa87c76e9",
   "metadata": {},
   "outputs": [],
   "source": [
    "def expand_query(query):\n",
    "\n",
    "    expansion_prompt = f\"\"\"\n",
    "    Given this short user query: \"{query}\"\n",
    "    Expand it in tamil into a more detailed question for better document retrieval.\n",
    "    \"\"\"\n",
    "    return MODEL.invoke(expansion_prompt)\n",
    "\n",
    "def prompt_template(user_query, context_text):\n",
    "    return f\"\"\"You are an intelligent assistant tasked with answering user queries strictly based on the provided document.\n",
    "\n",
    "### **Context (Extracted from Document)**\n",
    "{context_text}\n",
    "\n",
    "### **User Query**\n",
    "{user_query}\n",
    "\n",
    "### **Instructions for Answering**\n",
    "- Use only the provided document content to generate a response.\n",
    "- Do **not** introduce any external information or assumptions.\n",
    "- Extract relevant details from the document and structure them into a **coherent, well-formed response**.\n",
    "- Ensure the response is **clear and readable**, maintaining natural formatting without unnecessary line breaks (`\\n`).\n",
    "- Do **not** insert extra newlines unless they are essential for meaning or readability.\n",
    "- Avoid excessive spacing, unnatural paragraph breaks, or disjointed formatting.\n",
    "- If special characters like `\\n` are found in the extracted content, **omit them unless needed for clarity**.\n",
    "- If no relevant information is available, respond with: \"I'm sorry, but I couldn't find an answer in the provided document.\"\n",
    "- Do not provide explanations or context beyond what is necessary to answer the query.\n",
    "\n",
    "### **Final Answer (Ensure clear, natural formatting without unnecessary newlines)**\n",
    "\"\"\"\n",
    "\n"
   ]
  },
  {
   "cell_type": "code",
   "execution_count": 72,
   "id": "27972edb-16cc-48ae-8889-8cf6a54d8327",
   "metadata": {},
   "outputs": [],
   "source": [
    "def generate_answer(user_query):\n",
    "    e_user_query = expand_query(user_query)\n",
    "    related_docs = find_related_documents(e_user_query)\n",
    "    if not related_docs:\n",
    "        return [\"I'm sorry, but I couldn't find an answer in the provided document.\", \"\"]\n",
    "\n",
    "    context_text = \"\\n\\n\".join([doc for doc in related_docs])\n",
    "    prompt = prompt_template(e_user_query, context_text)\n",
    "    ai_response1 = MODEL.invoke(prompt)\n",
    "    ai_response2 = MODEL.invoke(f\"response from an AI model {ai_response1} refine the response to clear,concise and meaninglful by without changing or avoiding any information \")\n",
    "    ai_response1 = re.split(r\"</think>\\s*\", ai_response1, maxsplit=1)[-1].strip()\n",
    "    ai_response2 = re.split(r\"</think>\\s*\", ai_response2, maxsplit=1)[-1].strip()\n",
    "    return [ai_response1,ai_response2, context_text]\n"
   ]
  },
  {
   "cell_type": "code",
   "execution_count": 49,
   "id": "eecde1a6-ef7c-43d5-b057-80ae92e5b843",
   "metadata": {},
   "outputs": [
    {
     "name": "stdout",
     "output_type": "stream",
     "text": [
      "PDF saved at: C:\\Users\\aravi\\Downloads\\pdftake\\tamil.pdf\n"
     ]
    }
   ],
   "source": [
    "uploaded_pdf = \"C:\\\\Users\\\\aravi\\\\Downloads\\\\tamil.pdf\"\n",
    "if uploaded_pdf:\n",
    "    filename = os.path.basename(uploaded_pdf)\n",
    "    file_path = save_uploaded_file(open(uploaded_pdf, \"rb\"), filename)\n",
    "    print(f\"PDF saved at: {file_path}\")"
   ]
  },
  {
   "cell_type": "code",
   "execution_count": 50,
   "id": "ee3dfd20-42c1-4016-b7a3-d71fbceb8592",
   "metadata": {},
   "outputs": [],
   "source": [
    "# Load and process document\n",
    "raw_docs = load_pdf_documents(file_path)\n"
   ]
  },
  {
   "cell_type": "code",
   "execution_count": 51,
   "id": "f9260ac0-50f0-465c-b466-31287790f0b8",
   "metadata": {},
   "outputs": [],
   "source": [
    "processed_chunks = chunk_documents(raw_docs)"
   ]
  },
  {
   "cell_type": "code",
   "execution_count": 52,
   "id": "65913265-3189-404e-af00-13690dc74099",
   "metadata": {},
   "outputs": [
    {
     "name": "stdout",
     "output_type": "stream",
     "text": [
      "hi\n",
      "hi\n"
     ]
    }
   ],
   "source": [
    "index_documents(processed_chunks)"
   ]
  },
  {
   "cell_type": "code",
   "execution_count": 53,
   "id": "42c46c7c-fad4-4f09-8ea9-fc952c76c503",
   "metadata": {},
   "outputs": [],
   "source": [
    "# User query example\n",
    "user_input = \"தேசியக் கல்விக் கொள்கை 2020 பற்றிய முக்கிய நோக்கங்கள் என்ன?\""
   ]
  },
  {
   "cell_type": "code",
   "execution_count": 57,
   "id": "36745fb9-7935-4e68-b9a8-fb6309c91f3c",
   "metadata": {},
   "outputs": [],
   "source": [
    "ai_response = generate_answer(user_input)"
   ]
  },
  {
   "cell_type": "code",
   "execution_count": 27,
   "id": "7f8b7e70-6516-410b-b2af-eea66ba74799",
   "metadata": {},
   "outputs": [],
   "source": [
    "chunks = [doc.page_content for doc in processed_chunks]"
   ]
  },
  {
   "cell_type": "code",
   "execution_count": 58,
   "id": "adfdb523-1412-43d2-9df7-81d61594bf61",
   "metadata": {},
   "outputs": [
    {
     "data": {
      "text/plain": [
       "'The National Education Policy 2020 emphasizes several key objectives related to education in India. One of these goals involves promoting significant expansion and improvement in higher educational institutions for the benefit of students from various backgrounds. The policy also aims at establishing an effective system that will evaluate, recognize, and reward academic excellence across all private universities as well as colleges. Furthermore, it supports the development of human resource (HR) capabilities through its HR department under 4.41.'"
      ]
     },
     "execution_count": 58,
     "metadata": {},
     "output_type": "execute_result"
    }
   ],
   "source": [
    "ai_response[0]"
   ]
  },
  {
   "cell_type": "code",
   "execution_count": 64,
   "id": "98553aa6-4b51-469f-bc6b-23e75b3c727c",
   "metadata": {},
   "outputs": [],
   "source": [
    "user_input = \"உலகம் எந்தத் துறையில் விரைவான மாற்றங்களை அடைந்து வருகிறது?\""
   ]
  },
  {
   "cell_type": "code",
   "execution_count": null,
   "id": "a8090f32-970a-4718-bff5-69dc124ef89e",
   "metadata": {},
   "outputs": [],
   "source": [
    "ai_response = generate_answer(user_input)"
   ]
  },
  {
   "cell_type": "code",
   "execution_count": 61,
   "id": "b3c111fe-dd56-4fa2-9f64-93b62d0b60cd",
   "metadata": {},
   "outputs": [
    {
     "data": {
      "text/plain": [
       "'The world appears to be experiencing rapid changes in various fields, including energy, water resources, and food sources as indicated by the given context. These transformations are often accompanied by environmental challenges like increased pollution.'"
      ]
     },
     "execution_count": 61,
     "metadata": {},
     "output_type": "execute_result"
    }
   ],
   "source": [
    "ai_response[0]"
   ]
  },
  {
   "cell_type": "code",
   "execution_count": null,
   "id": "80eb9f2f-0f03-4e4a-b96d-85089b099aa5",
   "metadata": {},
   "outputs": [],
   "source": []
  }
 ],
 "metadata": {
  "kernelspec": {
   "display_name": "Python 3 (ipykernel)",
   "language": "python",
   "name": "python3"
  },
  "language_info": {
   "codemirror_mode": {
    "name": "ipython",
    "version": 3
   },
   "file_extension": ".py",
   "mimetype": "text/x-python",
   "name": "python",
   "nbconvert_exporter": "python",
   "pygments_lexer": "ipython3",
   "version": "3.11.4"
  }
 },
 "nbformat": 4,
 "nbformat_minor": 5
}
