{
 "cells": [
  {
   "cell_type": "code",
   "execution_count": 4,
   "id": "7b806213-e62b-4284-8167-7c192d0e46b0",
   "metadata": {},
   "outputs": [],
   "source": [
    "import faiss\n",
    "import pickle\n",
    "import numpy as np\n",
    "import gradio as gr\n",
    "from crewai import Agent, Task, Crew,LLM\n",
    "import os"
   ]
  },
  {
   "cell_type": "code",
   "execution_count": 2,
   "id": "d6c137e3-0b61-4b2f-9da3-7692155945a9",
   "metadata": {},
   "outputs": [
    {
     "name": "stderr",
     "output_type": "stream",
     "text": [
      "C:\\Users\\aravi\\AppData\\Local\\Programs\\Python\\Python311\\Lib\\site-packages\\sentence_transformers\\cross_encoder\\CrossEncoder.py:13: TqdmExperimentalWarning: Using `tqdm.autonotebook.tqdm` in notebook mode. Use `tqdm.tqdm` instead to force console mode (e.g. in jupyter console)\n",
      "  from tqdm.autonotebook import tqdm, trange\n"
     ]
    }
   ],
   "source": [
    "from sentence_transformers import SentenceTransformer\n",
    "EMBEDDING_MODEL = SentenceTransformer(\"sentence-transformers/all-mpnet-base-v2\")"
   ]
  },
  {
   "cell_type": "code",
   "execution_count": 6,
   "id": "df195e26-1104-42ab-9435-8bccb3c4971f",
   "metadata": {},
   "outputs": [],
   "source": [
    "os.environ[\"GEMINI_API_KEY\"] = \"\"\n",
    "llm = \"gemini/gemini-1.5-flash\"\n",
    "llm = LLM(model=llm)\n"
   ]
  },
  {
   "cell_type": "code",
   "execution_count": 8,
   "id": "30b01073-4aec-4aeb-bfb4-89dce82c727e",
   "metadata": {},
   "outputs": [],
   "source": [
    "faiss_index_path = 'D:\\\\New folder\\\\faiss_index.bin'\n",
    "dict_path = 'D:\\\\New folder\\\\dictionary.pkl'"
   ]
  },
  {
   "cell_type": "code",
   "execution_count": 9,
   "id": "618e5bab-e020-44d6-8345-613253b562a0",
   "metadata": {},
   "outputs": [],
   "source": [
    "vector_db = faiss.read_index(faiss_index_path)\n",
    "with open(dict_path, \"rb\") as file:\n",
    "    doc_store = pickle.load(file)"
   ]
  },
  {
   "cell_type": "code",
   "execution_count": 34,
   "id": "f9d3cf35-6cad-454d-a948-9b5e14ab6668",
   "metadata": {},
   "outputs": [
    {
     "name": "stdout",
     "output_type": "stream",
     "text": [
      "* Running on local URL:  http://127.0.0.1:7871\n",
      "\n",
      "To create a public link, set `share=True` in `launch()`.\n"
     ]
    },
    {
     "data": {
      "text/html": [
       "<div><iframe src=\"http://127.0.0.1:7871/\" width=\"100%\" height=\"500\" allow=\"autoplay; camera; microphone; clipboard-read; clipboard-write;\" frameborder=\"0\" allowfullscreen></iframe></div>"
      ],
      "text/plain": [
       "<IPython.core.display.HTML object>"
      ]
     },
     "metadata": {},
     "output_type": "display_data"
    },
    {
     "data": {
      "text/plain": []
     },
     "execution_count": 34,
     "metadata": {},
     "output_type": "execute_result"
    },
    {
     "name": "stderr",
     "output_type": "stream",
     "text": [
      "WARNING:opentelemetry.trace:Overriding of current TracerProvider is not allowed\n"
     ]
    },
    {
     "name": "stdout",
     "output_type": "stream",
     "text": [
      "\u001b[1m\u001b[95m# Agent:\u001b[00m \u001b[1m\u001b[92mAI Research Assistant\u001b[00m\n",
      "\u001b[95m## Task:\u001b[00m \u001b[92mProcess user query and retrieve the best response. Do not answer anything beyond the retrieved context.\n",
      "                             The query is: How to check Airtel DTH balance? and context is The Code has to be sent to 54325 from your registered mobile\n",
      "7) How to check Airtel DTH balance?\n",
      "You can check the Airtel DTH Balance in the following 3 ways:\n",
      "SMS ‘BAL’ to 54325 from your Registered Mobile Number\n",
      "From your registered mobile give a missed call to 81300-81300\n",
      "On the Airtel Thanks App on the Services page, the DTH account has the balance\n",
      "8) Which Is The Best DTH HD Connection?\n",
      "Airtel is considered the best DTH HD connection in India by customers and industry experts because of the cutting-edge features that are\n",
      "included in their offerings. Another reason to make Airtel DTH the best in the market is the attractive packages and pricing of its packs.\n",
      "\n",
      "Enter the recharge amount or browse for plans\n",
      "Confirm and pay through Airtel Payments Bank, Debit/Credit card or Netbanking\n",
      "5) How to change Airtel DTH HD Plan?\n",
      "You can easily Change the Airtel DTH HD plan by logging into your account on the Airtel website and choosing the DTH account. You can then\n",
      "go to the ‘Connections’ tab and ‘Change Base Pack’ option. You can then choose one of the preset plans or make your own pack.\n",
      "6) How to select channels in Airtel DTH HD?\n",
      "You can select channels for your Airtel DTH HD through the TV set itself:\n",
      "Turn on Airtel Digital TV\n",
      "Put on the Channel No. 998\n",
      "The On-Screen instructions will guide you to make the choice\n",
      "Confirmation code is displayed once done\n",
      "The Code has to be sent to 54325 from your registered mobile\n",
      "7) How to check Airtel DTH balance?\n",
      "You can check the Airtel DTH Balance in the following 3 ways:\n",
      "SMS ‘BAL’ to 54325 from your Registered Mobile Number\n",
      "From your registered mobile give a missed call to 81300-81300\n",
      "\n",
      "Start the Airtel DTH and TV\n",
      "Put on channel 998\n",
      "Follow the instructions on the screen\n",
      "A Code will come as a confirmation for success\n",
      "Use your Registered Mobile Number send the Code as an SMS to 54325\n",
      "14) What is Airtel DTH customer care number?\n",
      "Customers can call the 24x7 helpline number 1800-103-6065 toll-free or the helpline number from their region as listed here https://\n",
      "www.airtel.in/digital-tv/dth-contact-us/customer-care The Airtel customers can use their Airtel mobile or landline number to call 12150.\n",
      "15) How to deactivate Airtel DTH channel?\n",
      "Send Rem to 54325 from your registered mobile number. If sending from a non-Registered Mobile send Rem to 54325.\n",
      "16) What is the monthly pack of Airtel DTH?\n",
      "The monthly packs of Airtel DTH are a curated list of channels that are bundled together and priced monthly. You can customize it anytime and\n",
      "change it for the next month is you want.\n",
      "17) Is Airtel Xstream Free?\n",
      "            \u001b[00m\n",
      "\n",
      "\n",
      "\u001b[1m\u001b[95m# Agent:\u001b[00m \u001b[1m\u001b[92mAI Research Assistant\u001b[00m\n",
      "\u001b[95m## Final Answer:\u001b[00m \u001b[92m\n",
      "You can check the Airtel DTH Balance in the following 3 ways:\n",
      "SMS ‘BAL’ to 54325 from your Registered Mobile Number\n",
      "From your registered mobile give a missed call to 81300-81300\n",
      "On the Airtel Thanks App on the Services page, the DTH account has the balance\u001b[00m\n",
      "\n",
      "\n"
     ]
    }
   ],
   "source": [
    "\n",
    "class ChatCrew:\n",
    "    def __init__(self, EMBEDDING_MODEL, vector_db, doc_store):\n",
    "        # Define the retrieval agent\n",
    "        self.retrieval_agent = Agent(\n",
    "            role=\"AI Research Assistant\",\n",
    "            goal=\"Retrieve and provide the most relevant information based on user queries.\",\n",
    "            backstory=\"You are an AI-powered assistant designed to search through a database and provide users with the best-matching responses.\",\n",
    "            llm=llm,\n",
    "            verbose=True\n",
    "        )\n",
    "        self.EMBEDDING_MODEL = EMBEDDING_MODEL\n",
    "        self.vector_db = vector_db\n",
    "        self.doc_store = doc_store\n",
    "\n",
    "    def retrieve_answer(self, query):\n",
    "        \"\"\"Retrieve the most relevant answer from FAISS\"\"\"\n",
    "        # Convert query to vector\n",
    "        query_embedding = np.array(\n",
    "            self.EMBEDDING_MODEL.encode([query], convert_to_numpy=True, normalize_embeddings=True), \n",
    "            dtype=np.float32\n",
    "        )\n",
    "    \n",
    "        # Search in FAISS\n",
    "        _, indices = self.vector_db.search(query_embedding, k=3)  # Retrieve top 3 results\n",
    "    \n",
    "        # Retrieve context from document store\n",
    "        context = [self.doc_store[idx] for idx in indices[0] if idx in self.doc_store]\n",
    "    \n",
    "        # Format response\n",
    "        return \"\\n\\n\".join(context) if context else \"No relevant information found.\"\n",
    "\n",
    "    def create_chatbot_crew(self, query):\n",
    "        context = self.retrieve_answer(query)\n",
    "        query_task = Task(\n",
    "            description=f\"\"\"Process user query and retrieve the best response. Do not answer anything beyond the retrieved context.\n",
    "                             The query is: {query} and context is {context}\n",
    "            \"\"\",\n",
    "            agent=self.retrieval_agent,\n",
    "            expected_output=\"The most relevant answer retrieved from the knowledge base.\",\n",
    "            verbose=True\n",
    "        )\n",
    "\n",
    "        # Define Crew\n",
    "        self.chatbot_crew = Crew(\n",
    "            agents=[self.retrieval_agent],\n",
    "            tasks=[query_task],\n",
    "            verbose=True\n",
    "        )\n",
    "\n",
    "    def chatbot_interface(self, query):\n",
    "        self.create_chatbot_crew(query)\n",
    "        return self.chatbot_crew.kickoff()\n",
    "\n",
    "# Create instance of ChatCrew\n",
    "chatbot = ChatCrew(EMBEDDING_MODEL, vector_db, doc_store)\n",
    "\n",
    "demo = gr.Interface(fn=chatbot.chatbot_interface, inputs=\"text\", outputs=\"text\")\n",
    "demo.launch()\n"
   ]
  },
  {
   "cell_type": "code",
   "execution_count": null,
   "id": "16c5f2f6-3e5d-49d0-986e-3fb48d1c532b",
   "metadata": {},
   "outputs": [],
   "source": []
  },
  {
   "cell_type": "code",
   "execution_count": null,
   "id": "f6d1b12d-241d-45f3-96a8-5b2c48dd0e3d",
   "metadata": {},
   "outputs": [],
   "source": []
  }
 ],
 "metadata": {
  "kernelspec": {
   "display_name": "Python 3 (ipykernel)",
   "language": "python",
   "name": "python3"
  },
  "language_info": {
   "codemirror_mode": {
    "name": "ipython",
    "version": 3
   },
   "file_extension": ".py",
   "mimetype": "text/x-python",
   "name": "python",
   "nbconvert_exporter": "python",
   "pygments_lexer": "ipython3",
   "version": "3.11.4"
  }
 },
 "nbformat": 4,
 "nbformat_minor": 5
}
